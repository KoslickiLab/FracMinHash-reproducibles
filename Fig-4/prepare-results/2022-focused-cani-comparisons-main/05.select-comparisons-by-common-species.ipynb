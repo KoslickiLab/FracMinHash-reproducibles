{
 "cells": [
  {
   "cell_type": "code",
   "execution_count": 1,
   "id": "7b8a9ba0-5838-4eb3-b857-1b650fdf2476",
   "metadata": {
    "tags": []
   },
   "outputs": [],
   "source": [
    "import sourmash\n",
    "import pandas as pd\n",
    "import matplotlib.pyplot as plt\n",
    "import seaborn as sns\n",
    "from itertools import product, combinations\n",
    "from sourmash.tax import tax_utils\n",
    "from sourmash.lca import lca_utils"
   ]
  },
  {
   "cell_type": "code",
   "execution_count": 2,
   "id": "0292cd2e-0504-4ab8-b000-1f63c0fe41f8",
   "metadata": {
    "tags": []
   },
   "outputs": [
    {
     "name": "stdout",
     "output_type": "stream",
     "text": [
      "  % Total    % Received % Xferd  Average Speed   Time    Time     Time  Current\n",
      "                                 Dload  Upload   Total   Spent    Left  Speed\n",
      "100 57.3M  100 57.3M    0     0  23.0M      0  0:00:02  0:00:02 --:--:-- 23.0M\n",
      "  % Total    % Received % Xferd  Average Speed   Time    Time     Time  Current\n",
      "                                 Dload  Upload   Total   Spent    Left  Speed\n",
      "100 65.4M  100 65.4M    0     0  24.8M      0  0:00:02  0:00:02 --:--:-- 24.9M\n",
      "  % Total    % Received % Xferd  Average Speed   Time    Time     Time  Current\n",
      "                                 Dload  Upload   Total   Spent    Left  Speed\n",
      "100 11.6M  100 11.6M    0     0  9332k      0  0:00:01  0:00:01 --:--:-- 9348k\n"
     ]
    }
   ],
   "source": [
    "# download gtdb-rs207 taxonomy\n",
    "!curl -JLO https://farm.cse.ucdavis.edu/\\~ctbrown/sourmash-db/gtdb-rs207/gtdb-rs207.taxonomy.csv\n",
    "# download signature info for k31\n",
    "!curl -JLO https://farm.cse.ucdavis.edu/\\~ctbrown/sourmash-db/gtdb-rs207/gtdb-rs207.genomic.k31.describe.csv\n",
    "# download representative genome info\n",
    "!curl -JLO https://farm.cse.ucdavis.edu/\\~ctbrown/sourmash-db/gtdb-rs207/gtdb-rs207.taxonomy.reps.csv"
   ]
  },
  {
   "cell_type": "code",
   "execution_count": 3,
   "id": "4858d3a6-03cb-45b0-a376-a6710bf1044a",
   "metadata": {
    "tags": []
   },
   "outputs": [],
   "source": [
    "taxdb = 'gtdb-rs207.taxonomy.csv'\n",
    "# read taxonomy into useful sourmash format\n",
    "tax_assign = tax_utils.MultiLineageDB.load([taxdb],\n",
    "                                           keep_full_identifiers=False,\n",
    "                                           keep_identifier_versions=False )"
   ]
  },
  {
   "cell_type": "code",
   "execution_count": 4,
   "id": "115b4457-33dd-433e-89e3-e128b6a13388",
   "metadata": {
    "tags": []
   },
   "outputs": [
    {
     "data": {
      "text/html": [
       "<div>\n",
       "<style scoped>\n",
       "    .dataframe tbody tr th:only-of-type {\n",
       "        vertical-align: middle;\n",
       "    }\n",
       "\n",
       "    .dataframe tbody tr th {\n",
       "        vertical-align: top;\n",
       "    }\n",
       "\n",
       "    .dataframe thead th {\n",
       "        text-align: right;\n",
       "    }\n",
       "</style>\n",
       "<table border=\"1\" class=\"dataframe\">\n",
       "  <thead>\n",
       "    <tr style=\"text-align: right;\">\n",
       "      <th></th>\n",
       "      <th>signature_file</th>\n",
       "      <th>md5</th>\n",
       "      <th>ksize</th>\n",
       "      <th>moltype</th>\n",
       "      <th>num</th>\n",
       "      <th>scaled</th>\n",
       "      <th>n_hashes</th>\n",
       "      <th>seed</th>\n",
       "      <th>with_abundance</th>\n",
       "      <th>name</th>\n",
       "      <th>filename</th>\n",
       "      <th>license</th>\n",
       "      <th>sum_hashes</th>\n",
       "      <th>ident</th>\n",
       "    </tr>\n",
       "  </thead>\n",
       "  <tbody>\n",
       "    <tr>\n",
       "      <th>0</th>\n",
       "      <td>/group/ctbrowngrp/sourmash-db/gtdb-rs207/gtdb-...</td>\n",
       "      <td>bce936040b05e58a53be0974cbdef152</td>\n",
       "      <td>31</td>\n",
       "      <td>DNA</td>\n",
       "      <td>0</td>\n",
       "      <td>1000</td>\n",
       "      <td>4575</td>\n",
       "      <td>42</td>\n",
       "      <td>1</td>\n",
       "      <td>GCF_000814905.1 Enterobacter sp. Bisph1 strain...</td>\n",
       "      <td>/dev/fd/63</td>\n",
       "      <td>CC0</td>\n",
       "      <td>4594</td>\n",
       "      <td>GCF_000814905.1</td>\n",
       "    </tr>\n",
       "    <tr>\n",
       "      <th>1</th>\n",
       "      <td>/group/ctbrowngrp/sourmash-db/gtdb-rs207/gtdb-...</td>\n",
       "      <td>2c46c657d26265d4ccc87b66a343e44e</td>\n",
       "      <td>31</td>\n",
       "      <td>DNA</td>\n",
       "      <td>0</td>\n",
       "      <td>1000</td>\n",
       "      <td>2404</td>\n",
       "      <td>42</td>\n",
       "      <td>1</td>\n",
       "      <td>GCA_007116955.1 Vibrio sp., ASM711695v1</td>\n",
       "      <td>/dev/fd/63</td>\n",
       "      <td>CC0</td>\n",
       "      <td>2436</td>\n",
       "      <td>GCA_007116955.1</td>\n",
       "    </tr>\n",
       "    <tr>\n",
       "      <th>2</th>\n",
       "      <td>/group/ctbrowngrp/sourmash-db/gtdb-rs207/gtdb-...</td>\n",
       "      <td>eea831872487c41dfc2fb613f493ba35</td>\n",
       "      <td>31</td>\n",
       "      <td>DNA</td>\n",
       "      <td>0</td>\n",
       "      <td>1000</td>\n",
       "      <td>5828</td>\n",
       "      <td>42</td>\n",
       "      <td>1</td>\n",
       "      <td>GCF_017948435.1 Pseudomonas protegens strain=M...</td>\n",
       "      <td>/dev/fd/63</td>\n",
       "      <td>CC0</td>\n",
       "      <td>5847</td>\n",
       "      <td>GCF_017948435.1</td>\n",
       "    </tr>\n",
       "    <tr>\n",
       "      <th>3</th>\n",
       "      <td>/group/ctbrowngrp/sourmash-db/gtdb-rs207/gtdb-...</td>\n",
       "      <td>2c125d78f91b38497285d44e1b1d5405</td>\n",
       "      <td>31</td>\n",
       "      <td>DNA</td>\n",
       "      <td>0</td>\n",
       "      <td>1000</td>\n",
       "      <td>3306</td>\n",
       "      <td>42</td>\n",
       "      <td>1</td>\n",
       "      <td>GCA_017995835.1 Amaricoccus sp., ASM1799583v1</td>\n",
       "      <td>/dev/fd/63</td>\n",
       "      <td>CC0</td>\n",
       "      <td>3332</td>\n",
       "      <td>GCA_017995835.1</td>\n",
       "    </tr>\n",
       "    <tr>\n",
       "      <th>4</th>\n",
       "      <td>/group/ctbrowngrp/sourmash-db/gtdb-rs207/gtdb-...</td>\n",
       "      <td>dfc179236087a1222dbe18a61483fa61</td>\n",
       "      <td>31</td>\n",
       "      <td>DNA</td>\n",
       "      <td>0</td>\n",
       "      <td>1000</td>\n",
       "      <td>6960</td>\n",
       "      <td>42</td>\n",
       "      <td>1</td>\n",
       "      <td>GCF_001981135.1 Burkholderia pseudomallei stra...</td>\n",
       "      <td>/dev/fd/63</td>\n",
       "      <td>CC0</td>\n",
       "      <td>6993</td>\n",
       "      <td>GCF_001981135.1</td>\n",
       "    </tr>\n",
       "  </tbody>\n",
       "</table>\n",
       "</div>"
      ],
      "text/plain": [
       "                                      signature_file  \\\n",
       "0  /group/ctbrowngrp/sourmash-db/gtdb-rs207/gtdb-...   \n",
       "1  /group/ctbrowngrp/sourmash-db/gtdb-rs207/gtdb-...   \n",
       "2  /group/ctbrowngrp/sourmash-db/gtdb-rs207/gtdb-...   \n",
       "3  /group/ctbrowngrp/sourmash-db/gtdb-rs207/gtdb-...   \n",
       "4  /group/ctbrowngrp/sourmash-db/gtdb-rs207/gtdb-...   \n",
       "\n",
       "                                md5  ksize moltype  num  scaled  n_hashes  \\\n",
       "0  bce936040b05e58a53be0974cbdef152     31     DNA    0    1000      4575   \n",
       "1  2c46c657d26265d4ccc87b66a343e44e     31     DNA    0    1000      2404   \n",
       "2  eea831872487c41dfc2fb613f493ba35     31     DNA    0    1000      5828   \n",
       "3  2c125d78f91b38497285d44e1b1d5405     31     DNA    0    1000      3306   \n",
       "4  dfc179236087a1222dbe18a61483fa61     31     DNA    0    1000      6960   \n",
       "\n",
       "   seed  with_abundance                                               name  \\\n",
       "0    42               1  GCF_000814905.1 Enterobacter sp. Bisph1 strain...   \n",
       "1    42               1            GCA_007116955.1 Vibrio sp., ASM711695v1   \n",
       "2    42               1  GCF_017948435.1 Pseudomonas protegens strain=M...   \n",
       "3    42               1      GCA_017995835.1 Amaricoccus sp., ASM1799583v1   \n",
       "4    42               1  GCF_001981135.1 Burkholderia pseudomallei stra...   \n",
       "\n",
       "     filename license  sum_hashes            ident  \n",
       "0  /dev/fd/63     CC0        4594  GCF_000814905.1  \n",
       "1  /dev/fd/63     CC0        2436  GCA_007116955.1  \n",
       "2  /dev/fd/63     CC0        5847  GCF_017948435.1  \n",
       "3  /dev/fd/63     CC0        3332  GCA_017995835.1  \n",
       "4  /dev/fd/63     CC0        6993  GCF_001981135.1  "
      ]
     },
     "execution_count": 4,
     "metadata": {},
     "output_type": "execute_result"
    }
   ],
   "source": [
    "# read in signature info\n",
    "siginfocsv = \"gtdb-rs207.genomic.k31.describe.csv\"\n",
    "sigInf = pd.read_csv(siginfocsv)\n",
    "sigInf['ident'] = sigInf['name'].str.split(' ', expand=True)[0]\n",
    "sigInf.head()"
   ]
  },
  {
   "cell_type": "code",
   "execution_count": 5,
   "id": "cc695a4b-53cb-4c11-a65b-1d644780742c",
   "metadata": {
    "tags": []
   },
   "outputs": [
    {
     "data": {
      "text/html": [
       "<div>\n",
       "<style scoped>\n",
       "    .dataframe tbody tr th:only-of-type {\n",
       "        vertical-align: middle;\n",
       "    }\n",
       "\n",
       "    .dataframe tbody tr th {\n",
       "        vertical-align: top;\n",
       "    }\n",
       "\n",
       "    .dataframe thead th {\n",
       "        text-align: right;\n",
       "    }\n",
       "</style>\n",
       "<table border=\"1\" class=\"dataframe\">\n",
       "  <thead>\n",
       "    <tr style=\"text-align: right;\">\n",
       "      <th></th>\n",
       "      <th>signature_file</th>\n",
       "      <th>md5</th>\n",
       "      <th>ksize</th>\n",
       "      <th>moltype</th>\n",
       "      <th>num</th>\n",
       "      <th>scaled</th>\n",
       "      <th>n_hashes</th>\n",
       "      <th>seed</th>\n",
       "      <th>with_abundance</th>\n",
       "      <th>name</th>\n",
       "      <th>...</th>\n",
       "      <th>ident</th>\n",
       "      <th>lineage</th>\n",
       "      <th>lineage_str</th>\n",
       "      <th>superkingdom</th>\n",
       "      <th>phylum</th>\n",
       "      <th>class</th>\n",
       "      <th>order</th>\n",
       "      <th>family</th>\n",
       "      <th>genus</th>\n",
       "      <th>species</th>\n",
       "    </tr>\n",
       "  </thead>\n",
       "  <tbody>\n",
       "    <tr>\n",
       "      <th>0</th>\n",
       "      <td>/group/ctbrowngrp/sourmash-db/gtdb-rs207/gtdb-...</td>\n",
       "      <td>bce936040b05e58a53be0974cbdef152</td>\n",
       "      <td>31</td>\n",
       "      <td>DNA</td>\n",
       "      <td>0</td>\n",
       "      <td>1000</td>\n",
       "      <td>4575</td>\n",
       "      <td>42</td>\n",
       "      <td>1</td>\n",
       "      <td>GCF_000814905.1 Enterobacter sp. Bisph1 strain...</td>\n",
       "      <td>...</td>\n",
       "      <td>GCF_000814905.1</td>\n",
       "      <td>((superkingdom, d__Bacteria), (phylum, p__Prot...</td>\n",
       "      <td>d__Bacteria;p__Proteobacteria;c__Gammaproteoba...</td>\n",
       "      <td>d__Bacteria</td>\n",
       "      <td>p__Proteobacteria</td>\n",
       "      <td>c__Gammaproteobacteria</td>\n",
       "      <td>o__Enterobacterales</td>\n",
       "      <td>f__Enterobacteriaceae</td>\n",
       "      <td>g__Kosakonia</td>\n",
       "      <td>s__Kosakonia sp000814905</td>\n",
       "    </tr>\n",
       "    <tr>\n",
       "      <th>1</th>\n",
       "      <td>/group/ctbrowngrp/sourmash-db/gtdb-rs207/gtdb-...</td>\n",
       "      <td>2c46c657d26265d4ccc87b66a343e44e</td>\n",
       "      <td>31</td>\n",
       "      <td>DNA</td>\n",
       "      <td>0</td>\n",
       "      <td>1000</td>\n",
       "      <td>2404</td>\n",
       "      <td>42</td>\n",
       "      <td>1</td>\n",
       "      <td>GCA_007116955.1 Vibrio sp., ASM711695v1</td>\n",
       "      <td>...</td>\n",
       "      <td>GCA_007116955.1</td>\n",
       "      <td>((superkingdom, d__Bacteria), (phylum, p__Prot...</td>\n",
       "      <td>d__Bacteria;p__Proteobacteria;c__Gammaproteoba...</td>\n",
       "      <td>d__Bacteria</td>\n",
       "      <td>p__Proteobacteria</td>\n",
       "      <td>c__Gammaproteobacteria</td>\n",
       "      <td>o__Enterobacterales</td>\n",
       "      <td>f__Vibrionaceae</td>\n",
       "      <td>g__Vibrio</td>\n",
       "      <td>s__Vibrio sp007124475</td>\n",
       "    </tr>\n",
       "    <tr>\n",
       "      <th>2</th>\n",
       "      <td>/group/ctbrowngrp/sourmash-db/gtdb-rs207/gtdb-...</td>\n",
       "      <td>eea831872487c41dfc2fb613f493ba35</td>\n",
       "      <td>31</td>\n",
       "      <td>DNA</td>\n",
       "      <td>0</td>\n",
       "      <td>1000</td>\n",
       "      <td>5828</td>\n",
       "      <td>42</td>\n",
       "      <td>1</td>\n",
       "      <td>GCF_017948435.1 Pseudomonas protegens strain=M...</td>\n",
       "      <td>...</td>\n",
       "      <td>GCF_017948435.1</td>\n",
       "      <td>((superkingdom, d__Bacteria), (phylum, p__Prot...</td>\n",
       "      <td>d__Bacteria;p__Proteobacteria;c__Gammaproteoba...</td>\n",
       "      <td>d__Bacteria</td>\n",
       "      <td>p__Proteobacteria</td>\n",
       "      <td>c__Gammaproteobacteria</td>\n",
       "      <td>o__Pseudomonadales</td>\n",
       "      <td>f__Pseudomonadaceae</td>\n",
       "      <td>g__Pseudomonas_E</td>\n",
       "      <td>s__Pseudomonas_E putida_H</td>\n",
       "    </tr>\n",
       "    <tr>\n",
       "      <th>3</th>\n",
       "      <td>/group/ctbrowngrp/sourmash-db/gtdb-rs207/gtdb-...</td>\n",
       "      <td>2c125d78f91b38497285d44e1b1d5405</td>\n",
       "      <td>31</td>\n",
       "      <td>DNA</td>\n",
       "      <td>0</td>\n",
       "      <td>1000</td>\n",
       "      <td>3306</td>\n",
       "      <td>42</td>\n",
       "      <td>1</td>\n",
       "      <td>GCA_017995835.1 Amaricoccus sp., ASM1799583v1</td>\n",
       "      <td>...</td>\n",
       "      <td>GCA_017995835.1</td>\n",
       "      <td>((superkingdom, d__Bacteria), (phylum, p__Prot...</td>\n",
       "      <td>d__Bacteria;p__Proteobacteria;c__Alphaproteoba...</td>\n",
       "      <td>d__Bacteria</td>\n",
       "      <td>p__Proteobacteria</td>\n",
       "      <td>c__Alphaproteobacteria</td>\n",
       "      <td>o__Rhodobacterales</td>\n",
       "      <td>f__Rhodobacteraceae</td>\n",
       "      <td>g__Amaricoccus</td>\n",
       "      <td>s__Amaricoccus sp017995835</td>\n",
       "    </tr>\n",
       "    <tr>\n",
       "      <th>4</th>\n",
       "      <td>/group/ctbrowngrp/sourmash-db/gtdb-rs207/gtdb-...</td>\n",
       "      <td>dfc179236087a1222dbe18a61483fa61</td>\n",
       "      <td>31</td>\n",
       "      <td>DNA</td>\n",
       "      <td>0</td>\n",
       "      <td>1000</td>\n",
       "      <td>6960</td>\n",
       "      <td>42</td>\n",
       "      <td>1</td>\n",
       "      <td>GCF_001981135.1 Burkholderia pseudomallei stra...</td>\n",
       "      <td>...</td>\n",
       "      <td>GCF_001981135.1</td>\n",
       "      <td>((superkingdom, d__Bacteria), (phylum, p__Prot...</td>\n",
       "      <td>d__Bacteria;p__Proteobacteria;c__Gammaproteoba...</td>\n",
       "      <td>d__Bacteria</td>\n",
       "      <td>p__Proteobacteria</td>\n",
       "      <td>c__Gammaproteobacteria</td>\n",
       "      <td>o__Burkholderiales</td>\n",
       "      <td>f__Burkholderiaceae</td>\n",
       "      <td>g__Burkholderia</td>\n",
       "      <td>s__Burkholderia mallei</td>\n",
       "    </tr>\n",
       "  </tbody>\n",
       "</table>\n",
       "<p>5 rows × 23 columns</p>\n",
       "</div>"
      ],
      "text/plain": [
       "                                      signature_file  \\\n",
       "0  /group/ctbrowngrp/sourmash-db/gtdb-rs207/gtdb-...   \n",
       "1  /group/ctbrowngrp/sourmash-db/gtdb-rs207/gtdb-...   \n",
       "2  /group/ctbrowngrp/sourmash-db/gtdb-rs207/gtdb-...   \n",
       "3  /group/ctbrowngrp/sourmash-db/gtdb-rs207/gtdb-...   \n",
       "4  /group/ctbrowngrp/sourmash-db/gtdb-rs207/gtdb-...   \n",
       "\n",
       "                                md5  ksize moltype  num  scaled  n_hashes  \\\n",
       "0  bce936040b05e58a53be0974cbdef152     31     DNA    0    1000      4575   \n",
       "1  2c46c657d26265d4ccc87b66a343e44e     31     DNA    0    1000      2404   \n",
       "2  eea831872487c41dfc2fb613f493ba35     31     DNA    0    1000      5828   \n",
       "3  2c125d78f91b38497285d44e1b1d5405     31     DNA    0    1000      3306   \n",
       "4  dfc179236087a1222dbe18a61483fa61     31     DNA    0    1000      6960   \n",
       "\n",
       "   seed  with_abundance                                               name  \\\n",
       "0    42               1  GCF_000814905.1 Enterobacter sp. Bisph1 strain...   \n",
       "1    42               1            GCA_007116955.1 Vibrio sp., ASM711695v1   \n",
       "2    42               1  GCF_017948435.1 Pseudomonas protegens strain=M...   \n",
       "3    42               1      GCA_017995835.1 Amaricoccus sp., ASM1799583v1   \n",
       "4    42               1  GCF_001981135.1 Burkholderia pseudomallei stra...   \n",
       "\n",
       "   ...            ident                                            lineage  \\\n",
       "0  ...  GCF_000814905.1  ((superkingdom, d__Bacteria), (phylum, p__Prot...   \n",
       "1  ...  GCA_007116955.1  ((superkingdom, d__Bacteria), (phylum, p__Prot...   \n",
       "2  ...  GCF_017948435.1  ((superkingdom, d__Bacteria), (phylum, p__Prot...   \n",
       "3  ...  GCA_017995835.1  ((superkingdom, d__Bacteria), (phylum, p__Prot...   \n",
       "4  ...  GCF_001981135.1  ((superkingdom, d__Bacteria), (phylum, p__Prot...   \n",
       "\n",
       "                                         lineage_str superkingdom  \\\n",
       "0  d__Bacteria;p__Proteobacteria;c__Gammaproteoba...  d__Bacteria   \n",
       "1  d__Bacteria;p__Proteobacteria;c__Gammaproteoba...  d__Bacteria   \n",
       "2  d__Bacteria;p__Proteobacteria;c__Gammaproteoba...  d__Bacteria   \n",
       "3  d__Bacteria;p__Proteobacteria;c__Alphaproteoba...  d__Bacteria   \n",
       "4  d__Bacteria;p__Proteobacteria;c__Gammaproteoba...  d__Bacteria   \n",
       "\n",
       "              phylum                   class                order  \\\n",
       "0  p__Proteobacteria  c__Gammaproteobacteria  o__Enterobacterales   \n",
       "1  p__Proteobacteria  c__Gammaproteobacteria  o__Enterobacterales   \n",
       "2  p__Proteobacteria  c__Gammaproteobacteria   o__Pseudomonadales   \n",
       "3  p__Proteobacteria  c__Alphaproteobacteria   o__Rhodobacterales   \n",
       "4  p__Proteobacteria  c__Gammaproteobacteria   o__Burkholderiales   \n",
       "\n",
       "                  family             genus                     species  \n",
       "0  f__Enterobacteriaceae      g__Kosakonia    s__Kosakonia sp000814905  \n",
       "1        f__Vibrionaceae         g__Vibrio       s__Vibrio sp007124475  \n",
       "2    f__Pseudomonadaceae  g__Pseudomonas_E   s__Pseudomonas_E putida_H  \n",
       "3    f__Rhodobacteraceae    g__Amaricoccus  s__Amaricoccus sp017995835  \n",
       "4    f__Burkholderiaceae   g__Burkholderia      s__Burkholderia mallei  \n",
       "\n",
       "[5 rows x 23 columns]"
      ]
     },
     "execution_count": 5,
     "metadata": {},
     "output_type": "execute_result"
    }
   ],
   "source": [
    "sigInf['lineage'] = sigInf['ident'].apply(lambda x: tax_utils.find_match_lineage(x, tax_assign))\n",
    "sigInf['lineage_str'] = sigInf['lineage'].apply(lambda x: lca_utils.display_lineage(x))\n",
    "sigInf[['superkingdom', \"phylum\", \"class\", \"order\", \"family\", \"genus\", 'species']] = sigInf['lineage_str'].str.split(';', expand=True)\n",
    "\n",
    "sigInf.head()"
   ]
  },
  {
   "cell_type": "code",
   "execution_count": 6,
   "id": "382689b7-d635-40b8-ba2b-bcef2a6fa3aa",
   "metadata": {
    "tags": []
   },
   "outputs": [],
   "source": [
    "bactInf = sigInf[sigInf[\"superkingdom\"] == \"d__Bacteria\"]\n",
    "archInf = sigInf[sigInf[\"superkingdom\"] == \"d__Archaea\"]"
   ]
  },
  {
   "cell_type": "code",
   "execution_count": 7,
   "id": "29608c39-4960-427a-b21c-96aaa1b80550",
   "metadata": {
    "tags": []
   },
   "outputs": [
    {
     "data": {
      "text/html": [
       "<div>\n",
       "<style scoped>\n",
       "    .dataframe tbody tr th:only-of-type {\n",
       "        vertical-align: middle;\n",
       "    }\n",
       "\n",
       "    .dataframe tbody tr th {\n",
       "        vertical-align: top;\n",
       "    }\n",
       "\n",
       "    .dataframe thead th {\n",
       "        text-align: right;\n",
       "    }\n",
       "</style>\n",
       "<table border=\"1\" class=\"dataframe\">\n",
       "  <thead>\n",
       "    <tr style=\"text-align: right;\">\n",
       "      <th></th>\n",
       "      <th>species</th>\n",
       "      <th>ident</th>\n",
       "    </tr>\n",
       "  </thead>\n",
       "  <tbody>\n",
       "    <tr>\n",
       "      <th>0</th>\n",
       "      <td>s__Escherichia coli</td>\n",
       "      <td>26859</td>\n",
       "    </tr>\n",
       "    <tr>\n",
       "      <th>1</th>\n",
       "      <td>s__Staphylococcus aureus</td>\n",
       "      <td>13059</td>\n",
       "    </tr>\n",
       "    <tr>\n",
       "      <th>2</th>\n",
       "      <td>s__Salmonella enterica</td>\n",
       "      <td>12285</td>\n",
       "    </tr>\n",
       "    <tr>\n",
       "      <th>3</th>\n",
       "      <td>s__Klebsiella pneumoniae</td>\n",
       "      <td>11294</td>\n",
       "    </tr>\n",
       "    <tr>\n",
       "      <th>4</th>\n",
       "      <td>s__Streptococcus pneumoniae</td>\n",
       "      <td>8452</td>\n",
       "    </tr>\n",
       "    <tr>\n",
       "      <th>5</th>\n",
       "      <td>s__Mycobacterium tuberculosis</td>\n",
       "      <td>6836</td>\n",
       "    </tr>\n",
       "    <tr>\n",
       "      <th>6</th>\n",
       "      <td>s__Pseudomonas aeruginosa</td>\n",
       "      <td>5623</td>\n",
       "    </tr>\n",
       "  </tbody>\n",
       "</table>\n",
       "</div>"
      ],
      "text/plain": [
       "                         species  ident\n",
       "0            s__Escherichia coli  26859\n",
       "1       s__Staphylococcus aureus  13059\n",
       "2         s__Salmonella enterica  12285\n",
       "3       s__Klebsiella pneumoniae  11294\n",
       "4    s__Streptococcus pneumoniae   8452\n",
       "5  s__Mycobacterium tuberculosis   6836\n",
       "6      s__Pseudomonas aeruginosa   5623"
      ]
     },
     "execution_count": 7,
     "metadata": {},
     "output_type": "execute_result"
    }
   ],
   "source": [
    "# find taxonomic groups with most genomes, pick first 7 bacteria, 3 archaea\n",
    "most_common_bact = bactInf.groupby(\"species\")['ident'].count().sort_values(ascending=False)[:7].reset_index()\n",
    "most_common_bact"
   ]
  },
  {
   "cell_type": "code",
   "execution_count": 8,
   "id": "174382db-8830-4d3e-bb3e-eedc660c36df",
   "metadata": {
    "tags": []
   },
   "outputs": [
    {
     "data": {
      "text/html": [
       "<div>\n",
       "<style scoped>\n",
       "    .dataframe tbody tr th:only-of-type {\n",
       "        vertical-align: middle;\n",
       "    }\n",
       "\n",
       "    .dataframe tbody tr th {\n",
       "        vertical-align: top;\n",
       "    }\n",
       "\n",
       "    .dataframe thead th {\n",
       "        text-align: right;\n",
       "    }\n",
       "</style>\n",
       "<table border=\"1\" class=\"dataframe\">\n",
       "  <thead>\n",
       "    <tr style=\"text-align: right;\">\n",
       "      <th></th>\n",
       "      <th>species</th>\n",
       "      <th>ident</th>\n",
       "    </tr>\n",
       "  </thead>\n",
       "  <tbody>\n",
       "    <tr>\n",
       "      <th>0</th>\n",
       "      <td>s__Methanosarcina mazei</td>\n",
       "      <td>73</td>\n",
       "    </tr>\n",
       "    <tr>\n",
       "      <th>1</th>\n",
       "      <td>s__Sulfolobus acidocaldarius</td>\n",
       "      <td>56</td>\n",
       "    </tr>\n",
       "    <tr>\n",
       "      <th>2</th>\n",
       "      <td>s__Bog-38 sp003162175</td>\n",
       "      <td>29</td>\n",
       "    </tr>\n",
       "  </tbody>\n",
       "</table>\n",
       "</div>"
      ],
      "text/plain": [
       "                        species  ident\n",
       "0       s__Methanosarcina mazei     73\n",
       "1  s__Sulfolobus acidocaldarius     56\n",
       "2         s__Bog-38 sp003162175     29"
      ]
     },
     "execution_count": 8,
     "metadata": {},
     "output_type": "execute_result"
    }
   ],
   "source": [
    "most_common_arch = archInf.groupby(\"species\")['ident'].count().sort_values(ascending=False)[:3].reset_index()\n",
    "most_common_arch"
   ]
  },
  {
   "cell_type": "code",
   "execution_count": 9,
   "id": "cd42d234-b426-4f64-b441-92d0efe74aec",
   "metadata": {
    "tags": []
   },
   "outputs": [
    {
     "data": {
      "text/plain": [
       "['s__Escherichia coli',\n",
       " 's__Staphylococcus aureus',\n",
       " 's__Salmonella enterica',\n",
       " 's__Klebsiella pneumoniae',\n",
       " 's__Streptococcus pneumoniae',\n",
       " 's__Mycobacterium tuberculosis',\n",
       " 's__Pseudomonas aeruginosa',\n",
       " 's__Methanosarcina mazei',\n",
       " 's__Sulfolobus acidocaldarius',\n",
       " 's__Bog-38 sp003162175']"
      ]
     },
     "execution_count": 9,
     "metadata": {},
     "output_type": "execute_result"
    }
   ],
   "source": [
    "most_common_species_list =  most_common_bact['species'].tolist() + most_common_arch['species'].tolist()\n",
    "most_common_species_list"
   ]
  },
  {
   "cell_type": "code",
   "execution_count": 10,
   "id": "7211ea1e-74fb-460e-aac7-7714c3bcd55e",
   "metadata": {
    "tags": []
   },
   "outputs": [
    {
     "data": {
      "text/plain": [
       "65740"
      ]
     },
     "execution_count": 10,
     "metadata": {},
     "output_type": "execute_result"
    }
   ],
   "source": [
    "# load representative genome info\n",
    "reps = 'gtdb-rs207.taxonomy.reps.csv'\n",
    "repD = pd.read_csv(reps)\n",
    "rep_idents = repD['ident'].tolist()\n",
    "len(rep_idents)"
   ]
  },
  {
   "cell_type": "code",
   "execution_count": 11,
   "id": "16b94c4c-2670-4b45-bc99-948097cb8980",
   "metadata": {
    "tags": []
   },
   "outputs": [
    {
     "name": "stdout",
     "output_type": "stream",
     "text": [
      "(65740, 23)\n",
      "(251802, 23)\n"
     ]
    }
   ],
   "source": [
    "# subset to just reps and just NOT reps\n",
    "repInf = sigInf[sigInf['ident'].isin(rep_idents)]\n",
    "print(repInf.shape)\n",
    "# subset to just reps and just NOT reps\n",
    "norepInf = sigInf[~sigInf['ident'].isin(rep_idents)]\n",
    "print(norepInf.shape)"
   ]
  },
  {
   "cell_type": "code",
   "execution_count": 12,
   "id": "75654106-428f-44d4-8542-5582aed91899",
   "metadata": {
    "tags": []
   },
   "outputs": [
    {
     "data": {
      "text/plain": [
       "(10, 23)"
      ]
     },
     "execution_count": 12,
     "metadata": {},
     "output_type": "execute_result"
    }
   ],
   "source": [
    "rep_genomes = repInf[repInf['species'].isin(most_common_species_list)]\n",
    "rep_genomes.shape"
   ]
  },
  {
   "cell_type": "code",
   "execution_count": 13,
   "id": "d81dac67-6ab3-46ef-83b7-0f0587e96e3f",
   "metadata": {
    "tags": []
   },
   "outputs": [
    {
     "data": {
      "text/plain": [
       "['GCF_000742135.1 Klebsiella pneumoniae strain=ATCC 13883, ASM74213v1',\n",
       " 'GCF_000195955.2 Mycobacterium tuberculosis H37Rv strain=H37Rv, ASM19595v2',\n",
       " 'GCF_001457615.1 Pseudomonas aeruginosa strain=NCTC10332, NCTC10332',\n",
       " 'GCF_001457635.1 Streptococcus pneumoniae strain=NCTC7465, NCTC7465',\n",
       " 'GCF_001027105.1 Staphylococcus aureus subsp. aureus DSM 20231 strain=DSM 20231, ASM102710v1',\n",
       " 'GCA_003162175.1 Euryarchaeota archaeon, 20100900_E2D',\n",
       " 'GCF_003697165.2 Escherichia coli DSM 30083 = JCM 1649 = ATCC 11775 strain=ATCC 11775, ASM369716v2',\n",
       " 'GCF_000970205.1 Methanosarcina mazei S-6 strain=S-6, ASM97020v1',\n",
       " 'GCF_000006945.2 Salmonella enterica subsp. enterica serovar Typhimurium str. LT2, ASM694v2',\n",
       " 'GCF_000012285.1 Sulfolobus acidocaldarius DSM 639 strain=DSM 639, ASM1228v1']"
      ]
     },
     "execution_count": 13,
     "metadata": {},
     "output_type": "execute_result"
    }
   ],
   "source": [
    "# list the representative genomes we're using\n",
    "rep_genomes['name'].tolist()"
   ]
  },
  {
   "cell_type": "code",
   "execution_count": 14,
   "id": "57b632bd-32c6-4079-b77c-2f80b9d87ad8",
   "metadata": {
    "tags": []
   },
   "outputs": [
    {
     "data": {
      "text/plain": [
       "['GCF_000742135.1',\n",
       " 'GCF_000195955.2',\n",
       " 'GCF_001457615.1',\n",
       " 'GCF_001457635.1',\n",
       " 'GCF_001027105.1',\n",
       " 'GCA_003162175.1',\n",
       " 'GCF_003697165.2',\n",
       " 'GCF_000970205.1',\n",
       " 'GCF_000006945.2',\n",
       " 'GCF_000012285.1']"
      ]
     },
     "execution_count": 14,
     "metadata": {},
     "output_type": "execute_result"
    }
   ],
   "source": [
    "# get idents for representative genomes \n",
    "comparison_idents = rep_genomes['ident'].tolist()\n",
    "comparison_idents"
   ]
  },
  {
   "cell_type": "markdown",
   "id": "e81bc4de-675f-4fbc-a73a-932d01fa1b75",
   "metadata": {},
   "source": [
    "### Now we also need: genomes in same genus, family, class, phylum for each\n",
    "\n",
    "for each identifier, walk up the taxonomic ranks and pick 3 genomes that share taxonomy at that rank and not below (e.g. genome from different species in same genus)"
   ]
  },
  {
   "cell_type": "code",
   "execution_count": 15,
   "id": "cd082f55-045c-4d04-9094-cd21276f6743",
   "metadata": {
    "tags": []
   },
   "outputs": [
    {
     "name": "stdout",
     "output_type": "stream",
     "text": [
      "num_comparisons:192\n",
      "num_missed: 18\n"
     ]
    }
   ],
   "source": [
    "compare_idents = comparison_idents\n",
    "comparisons = []\n",
    "num_missed=0\n",
    "n_to_select = 3\n",
    "for ident in comparison_idents:\n",
    "    ident_row = sigInf[sigInf['ident']== ident]\n",
    "    taxlist = tax_utils.ascending_taxlist(include_strain=False)\n",
    "    prev_tax_at_rank = \"\"\n",
    "    prev_rank = \"species\"\n",
    "    for rank in taxlist:\n",
    "        tax_at_rank = list(ident_row[rank])[0]\n",
    "        #print(tax_at_rank)\n",
    "        this_info = norepInf[(norepInf[rank] == tax_at_rank)  & (norepInf[prev_rank] != prev_tax_at_rank)]\n",
    "        if not this_info.empty:\n",
    "            for n in range(0, n_to_select):\n",
    "                new_ident = this_info['ident'].tolist()[n]\n",
    "                if not new_ident:\n",
    "                    num_missed +=(n_to_select - n)\n",
    "                    break\n",
    "                this_comparison = (ident, new_ident)\n",
    "                comparisons.append(this_comparison)\n",
    "            prev_tax_at_rank = tax_at_rank\n",
    "            prev_rank = rank\n",
    "            #compare_idents.append(new_ident)\n",
    "        else:\n",
    "            num_missed+=n_to_select\n",
    "\n",
    "print(f\"num_comparisons:{len(comparisons)}\")\n",
    "print(f\"num_missed: {num_missed}\")"
   ]
  },
  {
   "cell_type": "code",
   "execution_count": 16,
   "id": "c3bdc28b-db0e-40c5-b234-6ef83334a148",
   "metadata": {
    "tags": []
   },
   "outputs": [
    {
     "data": {
      "text/html": [
       "<div>\n",
       "<style scoped>\n",
       "    .dataframe tbody tr th:only-of-type {\n",
       "        vertical-align: middle;\n",
       "    }\n",
       "\n",
       "    .dataframe tbody tr th {\n",
       "        vertical-align: top;\n",
       "    }\n",
       "\n",
       "    .dataframe thead th {\n",
       "        text-align: right;\n",
       "    }\n",
       "</style>\n",
       "<table border=\"1\" class=\"dataframe\">\n",
       "  <thead>\n",
       "    <tr style=\"text-align: right;\">\n",
       "      <th></th>\n",
       "      <th>identA</th>\n",
       "      <th>identB</th>\n",
       "      <th>comparison_reason</th>\n",
       "    </tr>\n",
       "  </thead>\n",
       "  <tbody>\n",
       "    <tr>\n",
       "      <th>0</th>\n",
       "      <td>GCF_000742135.1</td>\n",
       "      <td>GCF_015627065.1</td>\n",
       "      <td>evolpath_for_common_species</td>\n",
       "    </tr>\n",
       "    <tr>\n",
       "      <th>1</th>\n",
       "      <td>GCF_000742135.1</td>\n",
       "      <td>GCA_902508775.1</td>\n",
       "      <td>evolpath_for_common_species</td>\n",
       "    </tr>\n",
       "    <tr>\n",
       "      <th>2</th>\n",
       "      <td>GCF_000742135.1</td>\n",
       "      <td>GCF_900502275.1</td>\n",
       "      <td>evolpath_for_common_species</td>\n",
       "    </tr>\n",
       "    <tr>\n",
       "      <th>3</th>\n",
       "      <td>GCF_000742135.1</td>\n",
       "      <td>GCF_018439335.1</td>\n",
       "      <td>evolpath_for_common_species</td>\n",
       "    </tr>\n",
       "    <tr>\n",
       "      <th>4</th>\n",
       "      <td>GCF_000742135.1</td>\n",
       "      <td>GCF_015721435.1</td>\n",
       "      <td>evolpath_for_common_species</td>\n",
       "    </tr>\n",
       "    <tr>\n",
       "      <th>...</th>\n",
       "      <td>...</td>\n",
       "      <td>...</td>\n",
       "      <td>...</td>\n",
       "    </tr>\n",
       "    <tr>\n",
       "      <th>187</th>\n",
       "      <td>GCF_000012285.1</td>\n",
       "      <td>GCA_001917505.1</td>\n",
       "      <td>evolpath_for_common_species</td>\n",
       "    </tr>\n",
       "    <tr>\n",
       "      <th>188</th>\n",
       "      <td>GCF_000012285.1</td>\n",
       "      <td>GCA_011366955.1</td>\n",
       "      <td>evolpath_for_common_species</td>\n",
       "    </tr>\n",
       "    <tr>\n",
       "      <th>189</th>\n",
       "      <td>GCF_000012285.1</td>\n",
       "      <td>GCA_002505615.1</td>\n",
       "      <td>evolpath_for_common_species</td>\n",
       "    </tr>\n",
       "    <tr>\n",
       "      <th>190</th>\n",
       "      <td>GCF_000012285.1</td>\n",
       "      <td>GCF_017612575.1</td>\n",
       "      <td>evolpath_for_common_species</td>\n",
       "    </tr>\n",
       "    <tr>\n",
       "      <th>191</th>\n",
       "      <td>GCF_000012285.1</td>\n",
       "      <td>GCA_902763115.1</td>\n",
       "      <td>evolpath_for_common_species</td>\n",
       "    </tr>\n",
       "  </tbody>\n",
       "</table>\n",
       "<p>192 rows × 3 columns</p>\n",
       "</div>"
      ],
      "text/plain": [
       "              identA           identB            comparison_reason\n",
       "0    GCF_000742135.1  GCF_015627065.1  evolpath_for_common_species\n",
       "1    GCF_000742135.1  GCA_902508775.1  evolpath_for_common_species\n",
       "2    GCF_000742135.1  GCF_900502275.1  evolpath_for_common_species\n",
       "3    GCF_000742135.1  GCF_018439335.1  evolpath_for_common_species\n",
       "4    GCF_000742135.1  GCF_015721435.1  evolpath_for_common_species\n",
       "..               ...              ...                          ...\n",
       "187  GCF_000012285.1  GCA_001917505.1  evolpath_for_common_species\n",
       "188  GCF_000012285.1  GCA_011366955.1  evolpath_for_common_species\n",
       "189  GCF_000012285.1  GCA_002505615.1  evolpath_for_common_species\n",
       "190  GCF_000012285.1  GCF_017612575.1  evolpath_for_common_species\n",
       "191  GCF_000012285.1  GCA_902763115.1  evolpath_for_common_species\n",
       "\n",
       "[192 rows x 3 columns]"
      ]
     },
     "execution_count": 16,
     "metadata": {},
     "output_type": "execute_result"
    }
   ],
   "source": [
    "comp = pd.DataFrame.from_records(comparisons, columns=[\"identA\", \"identB\"])\n",
    "comp['comparison_reason'] = 'evolpath_for_common_species'\n",
    "comp"
   ]
  },
  {
   "cell_type": "code",
   "execution_count": 17,
   "id": "0a2aca73-db32-4a2a-9824-897834093088",
   "metadata": {
    "tags": []
   },
   "outputs": [],
   "source": [
    "comp.to_csv(\"gtdb-rs207.common-sp10-evolpaths.csv\", index=False)"
   ]
  }
 ],
 "metadata": {
  "kernelspec": {
   "display_name": "Python 3 (ipykernel)",
   "language": "python",
   "name": "python3"
  },
  "language_info": {
   "codemirror_mode": {
    "name": "ipython",
    "version": 3
   },
   "file_extension": ".py",
   "mimetype": "text/x-python",
   "name": "python",
   "nbconvert_exporter": "python",
   "pygments_lexer": "ipython3",
   "version": "3.10.9"
  }
 },
 "nbformat": 4,
 "nbformat_minor": 5
}
