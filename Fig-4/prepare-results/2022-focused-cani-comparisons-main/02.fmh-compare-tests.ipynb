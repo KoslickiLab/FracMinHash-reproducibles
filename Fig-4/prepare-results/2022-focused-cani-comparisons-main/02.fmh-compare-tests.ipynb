{
 "cells": [
  {
   "cell_type": "code",
   "execution_count": 68,
   "id": "0943baec-f254-47c1-999c-1a8b53cf5df9",
   "metadata": {},
   "outputs": [],
   "source": [
    "import sourmash\n",
    "import pandas as pd\n",
    "import matplotlib.pyplot as plt\n",
    "import seaborn as sns\n",
    "from itertools import combinations\n",
    "\n",
    "from sourmash.picklist import SignaturePicklist\n",
    "from sourmash.sketchcomparison import FracMinHashComparison\n"
   ]
  },
  {
   "cell_type": "code",
   "execution_count": 54,
   "id": "18dbefee-bf89-4676-9a7e-5fec0a0c3554",
   "metadata": {},
   "outputs": [
    {
     "data": {
      "text/html": [
       "<div>\n",
       "<style scoped>\n",
       "    .dataframe tbody tr th:only-of-type {\n",
       "        vertical-align: middle;\n",
       "    }\n",
       "\n",
       "    .dataframe tbody tr th {\n",
       "        vertical-align: top;\n",
       "    }\n",
       "\n",
       "    .dataframe thead th {\n",
       "        text-align: right;\n",
       "    }\n",
       "</style>\n",
       "<table border=\"1\" class=\"dataframe\">\n",
       "  <thead>\n",
       "    <tr style=\"text-align: right;\">\n",
       "      <th></th>\n",
       "      <th>family_lineage</th>\n",
       "      <th>ident</th>\n",
       "      <th>superkingdom</th>\n",
       "      <th>phylum</th>\n",
       "      <th>class</th>\n",
       "      <th>order</th>\n",
       "      <th>family</th>\n",
       "      <th>genus</th>\n",
       "      <th>species</th>\n",
       "      <th>is_representative</th>\n",
       "      <th>signame</th>\n",
       "      <th>phylum_lineage</th>\n",
       "    </tr>\n",
       "  </thead>\n",
       "  <tbody>\n",
       "    <tr>\n",
       "      <th>0</th>\n",
       "      <td>d__Archaea;p__Aenigmatarchaeota;c__Aenigmatarc...</td>\n",
       "      <td>GCA_017609445.1</td>\n",
       "      <td>d__Archaea</td>\n",
       "      <td>p__Aenigmatarchaeota</td>\n",
       "      <td>c__Aenigmatarchaeia</td>\n",
       "      <td>o__Aenigmatarchaeales</td>\n",
       "      <td>f__Aenigmatarchaeaceae</td>\n",
       "      <td>g__JAFCDY01</td>\n",
       "      <td>s__JAFCDY01 sp017609445</td>\n",
       "      <td>True</td>\n",
       "      <td>GCA_017609445.1 s__JAFCDY01 sp017609445</td>\n",
       "      <td>d__Archaea;p__Aenigmatarchaeota</td>\n",
       "    </tr>\n",
       "    <tr>\n",
       "      <th>1</th>\n",
       "      <td>d__Archaea;p__Aenigmatarchaeota;c__Aenigmatarc...</td>\n",
       "      <td>GCA_013152905.1</td>\n",
       "      <td>d__Archaea</td>\n",
       "      <td>p__Aenigmatarchaeota</td>\n",
       "      <td>c__Aenigmatarchaeia</td>\n",
       "      <td>o__Aenigmatarchaeales</td>\n",
       "      <td>f__JAADFI01</td>\n",
       "      <td>g__JAADFI01</td>\n",
       "      <td>s__JAADFI01 sp013152905</td>\n",
       "      <td>True</td>\n",
       "      <td>GCA_013152905.1 s__JAADFI01 sp013152905</td>\n",
       "      <td>d__Archaea;p__Aenigmatarchaeota</td>\n",
       "    </tr>\n",
       "    <tr>\n",
       "      <th>2</th>\n",
       "      <td>d__Archaea;p__Aenigmatarchaeota;c__Aenigmatarc...</td>\n",
       "      <td>GCA_015661515.1</td>\n",
       "      <td>d__Archaea</td>\n",
       "      <td>p__Aenigmatarchaeota</td>\n",
       "      <td>c__Aenigmatarchaeia</td>\n",
       "      <td>o__Aenigmatarchaeales</td>\n",
       "      <td>f__SZUA-1535</td>\n",
       "      <td>g__SZUA-1535</td>\n",
       "      <td>s__SZUA-1535 sp015661515</td>\n",
       "      <td>True</td>\n",
       "      <td>GCA_015661515.1 s__SZUA-1535 sp015661515</td>\n",
       "      <td>d__Archaea;p__Aenigmatarchaeota</td>\n",
       "    </tr>\n",
       "    <tr>\n",
       "      <th>3</th>\n",
       "      <td>d__Archaea;p__Aenigmatarchaeota;c__Aenigmatarc...</td>\n",
       "      <td>GCA_018920345.1</td>\n",
       "      <td>d__Archaea</td>\n",
       "      <td>p__Aenigmatarchaeota</td>\n",
       "      <td>c__Aenigmatarchaeia</td>\n",
       "      <td>o__CG10238-14</td>\n",
       "      <td>f__CG10238-14</td>\n",
       "      <td>g__JAHLMN01</td>\n",
       "      <td>s__JAHLMN01 sp018920345</td>\n",
       "      <td>True</td>\n",
       "      <td>GCA_018920345.1 s__JAHLMN01 sp018920345</td>\n",
       "      <td>d__Archaea;p__Aenigmatarchaeota</td>\n",
       "    </tr>\n",
       "    <tr>\n",
       "      <th>4</th>\n",
       "      <td>d__Archaea;p__Aenigmatarchaeota;c__Aenigmatarc...</td>\n",
       "      <td>GCA_002254545.1</td>\n",
       "      <td>d__Archaea</td>\n",
       "      <td>p__Aenigmatarchaeota</td>\n",
       "      <td>c__Aenigmatarchaeia</td>\n",
       "      <td>o__CG10238-14</td>\n",
       "      <td>f__EX4484-224</td>\n",
       "      <td>g__EX4484-224</td>\n",
       "      <td>s__EX4484-224 sp002254545</td>\n",
       "      <td>True</td>\n",
       "      <td>GCA_002254545.1 s__EX4484-224 sp002254545</td>\n",
       "      <td>d__Archaea;p__Aenigmatarchaeota</td>\n",
       "    </tr>\n",
       "    <tr>\n",
       "      <th>...</th>\n",
       "      <td>...</td>\n",
       "      <td>...</td>\n",
       "      <td>...</td>\n",
       "      <td>...</td>\n",
       "      <td>...</td>\n",
       "      <td>...</td>\n",
       "      <td>...</td>\n",
       "      <td>...</td>\n",
       "      <td>...</td>\n",
       "      <td>...</td>\n",
       "      <td>...</td>\n",
       "      <td>...</td>\n",
       "    </tr>\n",
       "    <tr>\n",
       "      <th>2668</th>\n",
       "      <td>d__Bacteria;p__Zixibacteria;c__MSB-5A5;o__JAAB...</td>\n",
       "      <td>GCA_011777135.1</td>\n",
       "      <td>d__Bacteria</td>\n",
       "      <td>p__Zixibacteria</td>\n",
       "      <td>c__MSB-5A5</td>\n",
       "      <td>o__JAABVY01</td>\n",
       "      <td>f__JAABVY01</td>\n",
       "      <td>g__JAABVY01</td>\n",
       "      <td>s__JAABVY01 sp011777135</td>\n",
       "      <td>True</td>\n",
       "      <td>GCA_011777135.1 s__JAABVY01 sp011777135</td>\n",
       "      <td>d__Bacteria;p__Zixibacteria</td>\n",
       "    </tr>\n",
       "    <tr>\n",
       "      <th>2669</th>\n",
       "      <td>d__Bacteria;p__Zixibacteria;c__MSB-5A5;o__MSB-...</td>\n",
       "      <td>GCA_001304225.1</td>\n",
       "      <td>d__Bacteria</td>\n",
       "      <td>p__Zixibacteria</td>\n",
       "      <td>c__MSB-5A5</td>\n",
       "      <td>o__MSB-5A5</td>\n",
       "      <td>f__SM1-73</td>\n",
       "      <td>g__SM1-73</td>\n",
       "      <td>s__SM1-73 sp001304225</td>\n",
       "      <td>True</td>\n",
       "      <td>GCA_001304225.1 s__SM1-73 sp001304225</td>\n",
       "      <td>d__Bacteria;p__Zixibacteria</td>\n",
       "    </tr>\n",
       "    <tr>\n",
       "      <th>2670</th>\n",
       "      <td>d__Bacteria;p__Zixibacteria;c__MSB-5A5;o__UBA1...</td>\n",
       "      <td>GCA_012517955.1</td>\n",
       "      <td>d__Bacteria</td>\n",
       "      <td>p__Zixibacteria</td>\n",
       "      <td>c__MSB-5A5</td>\n",
       "      <td>o__UBA10806</td>\n",
       "      <td>f__4484-95</td>\n",
       "      <td>g__JAAYTW01</td>\n",
       "      <td>s__JAAYTW01 sp012517955</td>\n",
       "      <td>True</td>\n",
       "      <td>GCA_012517955.1 s__JAAYTW01 sp012517955</td>\n",
       "      <td>d__Bacteria;p__Zixibacteria</td>\n",
       "    </tr>\n",
       "    <tr>\n",
       "      <th>2671</th>\n",
       "      <td>d__Bacteria;p__Zixibacteria;c__MSB-5A5;o__UBA1...</td>\n",
       "      <td>GCA_001775395.1</td>\n",
       "      <td>d__Bacteria</td>\n",
       "      <td>p__Zixibacteria</td>\n",
       "      <td>c__MSB-5A5</td>\n",
       "      <td>o__UBA10806</td>\n",
       "      <td>f__UBA10806</td>\n",
       "      <td>g__UBA10806</td>\n",
       "      <td>s__UBA10806 sp001775395</td>\n",
       "      <td>True</td>\n",
       "      <td>GCA_001775395.1 s__UBA10806 sp001775395</td>\n",
       "      <td>d__Bacteria;p__Zixibacteria</td>\n",
       "    </tr>\n",
       "    <tr>\n",
       "      <th>2672</th>\n",
       "      <td>d__Bacteria;p__Zixibacteria;c__MSB-5A5;o__UM-F...</td>\n",
       "      <td>GCA_014730175.1</td>\n",
       "      <td>d__Bacteria</td>\n",
       "      <td>p__Zixibacteria</td>\n",
       "      <td>c__MSB-5A5</td>\n",
       "      <td>o__UM-FILTER-46-8</td>\n",
       "      <td>f__UM-FILTER-46-8</td>\n",
       "      <td>g__WJIR01</td>\n",
       "      <td>s__WJIR01 sp014730175</td>\n",
       "      <td>True</td>\n",
       "      <td>GCA_014730175.1 s__WJIR01 sp014730175</td>\n",
       "      <td>d__Bacteria;p__Zixibacteria</td>\n",
       "    </tr>\n",
       "  </tbody>\n",
       "</table>\n",
       "<p>2673 rows × 12 columns</p>\n",
       "</div>"
      ],
      "text/plain": [
       "                                         family_lineage            ident  \\\n",
       "0     d__Archaea;p__Aenigmatarchaeota;c__Aenigmatarc...  GCA_017609445.1   \n",
       "1     d__Archaea;p__Aenigmatarchaeota;c__Aenigmatarc...  GCA_013152905.1   \n",
       "2     d__Archaea;p__Aenigmatarchaeota;c__Aenigmatarc...  GCA_015661515.1   \n",
       "3     d__Archaea;p__Aenigmatarchaeota;c__Aenigmatarc...  GCA_018920345.1   \n",
       "4     d__Archaea;p__Aenigmatarchaeota;c__Aenigmatarc...  GCA_002254545.1   \n",
       "...                                                 ...              ...   \n",
       "2668  d__Bacteria;p__Zixibacteria;c__MSB-5A5;o__JAAB...  GCA_011777135.1   \n",
       "2669  d__Bacteria;p__Zixibacteria;c__MSB-5A5;o__MSB-...  GCA_001304225.1   \n",
       "2670  d__Bacteria;p__Zixibacteria;c__MSB-5A5;o__UBA1...  GCA_012517955.1   \n",
       "2671  d__Bacteria;p__Zixibacteria;c__MSB-5A5;o__UBA1...  GCA_001775395.1   \n",
       "2672  d__Bacteria;p__Zixibacteria;c__MSB-5A5;o__UM-F...  GCA_014730175.1   \n",
       "\n",
       "     superkingdom                phylum                class  \\\n",
       "0      d__Archaea  p__Aenigmatarchaeota  c__Aenigmatarchaeia   \n",
       "1      d__Archaea  p__Aenigmatarchaeota  c__Aenigmatarchaeia   \n",
       "2      d__Archaea  p__Aenigmatarchaeota  c__Aenigmatarchaeia   \n",
       "3      d__Archaea  p__Aenigmatarchaeota  c__Aenigmatarchaeia   \n",
       "4      d__Archaea  p__Aenigmatarchaeota  c__Aenigmatarchaeia   \n",
       "...           ...                   ...                  ...   \n",
       "2668  d__Bacteria       p__Zixibacteria           c__MSB-5A5   \n",
       "2669  d__Bacteria       p__Zixibacteria           c__MSB-5A5   \n",
       "2670  d__Bacteria       p__Zixibacteria           c__MSB-5A5   \n",
       "2671  d__Bacteria       p__Zixibacteria           c__MSB-5A5   \n",
       "2672  d__Bacteria       p__Zixibacteria           c__MSB-5A5   \n",
       "\n",
       "                      order                  family          genus  \\\n",
       "0     o__Aenigmatarchaeales  f__Aenigmatarchaeaceae    g__JAFCDY01   \n",
       "1     o__Aenigmatarchaeales             f__JAADFI01    g__JAADFI01   \n",
       "2     o__Aenigmatarchaeales            f__SZUA-1535   g__SZUA-1535   \n",
       "3             o__CG10238-14           f__CG10238-14    g__JAHLMN01   \n",
       "4             o__CG10238-14           f__EX4484-224  g__EX4484-224   \n",
       "...                     ...                     ...            ...   \n",
       "2668            o__JAABVY01             f__JAABVY01    g__JAABVY01   \n",
       "2669             o__MSB-5A5               f__SM1-73      g__SM1-73   \n",
       "2670            o__UBA10806              f__4484-95    g__JAAYTW01   \n",
       "2671            o__UBA10806             f__UBA10806    g__UBA10806   \n",
       "2672      o__UM-FILTER-46-8       f__UM-FILTER-46-8      g__WJIR01   \n",
       "\n",
       "                        species  is_representative  \\\n",
       "0       s__JAFCDY01 sp017609445               True   \n",
       "1       s__JAADFI01 sp013152905               True   \n",
       "2      s__SZUA-1535 sp015661515               True   \n",
       "3       s__JAHLMN01 sp018920345               True   \n",
       "4     s__EX4484-224 sp002254545               True   \n",
       "...                         ...                ...   \n",
       "2668    s__JAABVY01 sp011777135               True   \n",
       "2669      s__SM1-73 sp001304225               True   \n",
       "2670    s__JAAYTW01 sp012517955               True   \n",
       "2671    s__UBA10806 sp001775395               True   \n",
       "2672      s__WJIR01 sp014730175               True   \n",
       "\n",
       "                                        signame  \\\n",
       "0       GCA_017609445.1 s__JAFCDY01 sp017609445   \n",
       "1       GCA_013152905.1 s__JAADFI01 sp013152905   \n",
       "2      GCA_015661515.1 s__SZUA-1535 sp015661515   \n",
       "3       GCA_018920345.1 s__JAHLMN01 sp018920345   \n",
       "4     GCA_002254545.1 s__EX4484-224 sp002254545   \n",
       "...                                         ...   \n",
       "2668    GCA_011777135.1 s__JAABVY01 sp011777135   \n",
       "2669      GCA_001304225.1 s__SM1-73 sp001304225   \n",
       "2670    GCA_012517955.1 s__JAAYTW01 sp012517955   \n",
       "2671    GCA_001775395.1 s__UBA10806 sp001775395   \n",
       "2672      GCA_014730175.1 s__WJIR01 sp014730175   \n",
       "\n",
       "                       phylum_lineage  \n",
       "0     d__Archaea;p__Aenigmatarchaeota  \n",
       "1     d__Archaea;p__Aenigmatarchaeota  \n",
       "2     d__Archaea;p__Aenigmatarchaeota  \n",
       "3     d__Archaea;p__Aenigmatarchaeota  \n",
       "4     d__Archaea;p__Aenigmatarchaeota  \n",
       "...                               ...  \n",
       "2668      d__Bacteria;p__Zixibacteria  \n",
       "2669      d__Bacteria;p__Zixibacteria  \n",
       "2670      d__Bacteria;p__Zixibacteria  \n",
       "2671      d__Bacteria;p__Zixibacteria  \n",
       "2672      d__Bacteria;p__Zixibacteria  \n",
       "\n",
       "[2673 rows x 12 columns]"
      ]
     },
     "execution_count": 54,
     "metadata": {},
     "output_type": "execute_result"
    }
   ],
   "source": [
    "#dist_csv = \"gtdb-comparisons.reps.phylum-reps.n15.csv\"\n",
    "dist_csv = \"gtdb-rs207.reps.one_genome_per_family.csv\"\n",
    "distD = pd.read_csv(dist_csv)\n",
    "distD"
   ]
  },
  {
   "cell_type": "code",
   "execution_count": 58,
   "id": "306b2ba1-3c8b-4de5-a26b-13d8f74239a6",
   "metadata": {},
   "outputs": [
    {
     "data": {
      "text/plain": [
       "2673"
      ]
     },
     "execution_count": 58,
     "metadata": {},
     "output_type": "execute_result"
    }
   ],
   "source": [
    "all_idents = distD['ident'].tolist()\n",
    "test_idents = all_idents[:10]\n",
    "len(all_idents)"
   ]
  },
  {
   "cell_type": "code",
   "execution_count": 3,
   "id": "7d8314df-d9ba-412e-971b-8640761a63fc",
   "metadata": {},
   "outputs": [],
   "source": [
    "reps_zipF = \"gtdb-rs207.genomic-reps.dna.k21.zip\""
   ]
  },
  {
   "cell_type": "code",
   "execution_count": 7,
   "id": "c3386af9-a2c2-489f-96b0-19bb7aeb7a6b",
   "metadata": {},
   "outputs": [],
   "source": [
    "db = sourmash.load_file_as_index(reps_zipF)"
   ]
  },
  {
   "cell_type": "code",
   "execution_count": 46,
   "id": "64641913-56b7-465d-9413-d7ffff5872e5",
   "metadata": {},
   "outputs": [],
   "source": [
    "# let's just try a few\n",
    "\n",
    "#idA = \"GCA_015709495.1\"\n",
    "#idB = \"GCF_000213785.1\"\n",
    "#all_idents = [idA,idB]"
   ]
  },
  {
   "cell_type": "code",
   "execution_count": 59,
   "id": "5823f740-bc6c-4738-8b90-d4c0de303c2c",
   "metadata": {},
   "outputs": [
    {
     "data": {
      "text/plain": [
       "{'GCA_000806115.1',\n",
       " 'GCA_002254545.1',\n",
       " 'GCA_013152905.1',\n",
       " 'GCA_015522745.1',\n",
       " 'GCA_015661515.1',\n",
       " 'GCA_016187415.1',\n",
       " 'GCA_016213555.1',\n",
       " 'GCA_016219485.1',\n",
       " 'GCA_017609445.1',\n",
       " 'GCA_018920345.1'}"
      ]
     },
     "execution_count": 59,
     "metadata": {},
     "output_type": "execute_result"
    }
   ],
   "source": [
    "# construct a picklist...\n",
    "picklist = SignaturePicklist('ident')\n",
    "picklist.init(test_idents)"
   ]
  },
  {
   "cell_type": "code",
   "execution_count": 60,
   "id": "4e09ebfa-26c6-4193-8c82-0d201ec207e3",
   "metadata": {},
   "outputs": [
    {
     "data": {
      "text/plain": [
       "10"
      ]
     },
     "execution_count": 60,
     "metadata": {},
     "output_type": "execute_result"
    }
   ],
   "source": [
    "sigs = db.select(picklist=picklist)\n",
    "len(sigs)"
   ]
  },
  {
   "cell_type": "code",
   "execution_count": null,
   "id": "7377877f-3dfe-4929-84f4-3e8dd608691d",
   "metadata": {},
   "outputs": [],
   "source": [
    "# loop through and pick any comparisons where k21 containment is > 0??"
   ]
  },
  {
   "cell_type": "code",
   "execution_count": 64,
   "id": "a82f6c6a-350c-430a-9f90-a807bb0a19e8",
   "metadata": {},
   "outputs": [
    {
     "name": "stdout",
     "output_type": "stream",
     "text": [
      "GCA_016219485.1 Candidatus Aenigmarchaeota archaeon, ASM1621948v1 GCA_016213555.1 Candidatus Aenigmarchaeota archaeon, ASM1621355v1\n"
     ]
    }
   ],
   "source": [
    "siglist = list(sigs.signatures())\n",
    "ss1 = siglist[0]\n",
    "ss2 = siglist[9]\n",
    "print(ss1.name, ss2.name)"
   ]
  },
  {
   "cell_type": "code",
   "execution_count": 65,
   "id": "fc207438-c72d-47e2-a3ff-5c81ff5de796",
   "metadata": {},
   "outputs": [
    {
     "data": {
      "text/plain": [
       "0.0"
      ]
     },
     "execution_count": 65,
     "metadata": {},
     "output_type": "execute_result"
    }
   ],
   "source": [
    "cmp = FracMinHashComparison(ss1.minhash, ss2.minhash)\n",
    "cmp.estimate_all_containment_ani()\n",
    "\n",
    "cmp.avg_containment_ani"
   ]
  },
  {
   "cell_type": "code",
   "execution_count": 66,
   "id": "e18b8900-be99-4fce-ba00-488433beeb21",
   "metadata": {},
   "outputs": [
    {
     "data": {
      "text/plain": [
       "0.0"
      ]
     },
     "execution_count": 66,
     "metadata": {},
     "output_type": "execute_result"
    }
   ],
   "source": [
    "cmp.mh1_containment_in_mh2"
   ]
  },
  {
   "cell_type": "code",
   "execution_count": 67,
   "id": "0f110909-5bc3-4bdd-9c6e-9e376c93a22f",
   "metadata": {},
   "outputs": [
    {
     "data": {
      "text/plain": [
       "0.0"
      ]
     },
     "execution_count": 67,
     "metadata": {},
     "output_type": "execute_result"
    }
   ],
   "source": [
    "cmp.mh2_containment_in_mh1"
   ]
  },
  {
   "cell_type": "code",
   "execution_count": null,
   "id": "68ea2e20-33b7-40e0-8def-3f4486c422ea",
   "metadata": {},
   "outputs": [],
   "source": [
    "combinations = "
   ]
  }
 ],
 "metadata": {
  "kernelspec": {
   "display_name": "Python 3 (ipykernel)",
   "language": "python",
   "name": "python3"
  },
  "language_info": {
   "codemirror_mode": {
    "name": "ipython",
    "version": 3
   },
   "file_extension": ".py",
   "mimetype": "text/x-python",
   "name": "python",
   "nbconvert_exporter": "python",
   "pygments_lexer": "ipython3",
   "version": "3.10.6"
  }
 },
 "nbformat": 4,
 "nbformat_minor": 5
}
